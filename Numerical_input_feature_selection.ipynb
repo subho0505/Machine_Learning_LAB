{
  "cells": [
    {
      "cell_type": "markdown",
      "source": [
        "dataset: https://www.kaggle.com/datasets/uciml/breast-cancer-wisconsin-data"
      ],
      "metadata": {
        "id": "m0JJ2MtRh9tH"
      }
    },
    {
      "cell_type": "code",
      "source": [
        "from google.colab import drive\n",
        "drive.mount('/content/drive')\n",
        "file_path = '/content/drive/MyDrive/breast_cancer_wisconsin.csv'"
      ],
      "metadata": {
        "colab": {
          "base_uri": "https://localhost:8080/"
        },
        "id": "5oZXrNej95n7",
        "outputId": "4bcc54e2-afda-4a74-d145-7da3a9919b5d"
      },
      "execution_count": null,
      "outputs": [
        {
          "output_type": "stream",
          "name": "stdout",
          "text": [
            "Mounted at /content/drive\n"
          ]
        }
      ]
    },
    {
      "cell_type": "code",
      "execution_count": null,
      "metadata": {
        "id": "mdC79Wyv9qpa"
      },
      "outputs": [],
      "source": [
        "#importing packages\n",
        "from pandas import read_csv\n",
        "from sklearn.model_selection import train_test_split\n",
        "from sklearn.feature_selection import SelectKBest\n",
        "from sklearn.feature_selection import f_classif\n",
        "from matplotlib import pyplot"
      ]
    },
    {
      "cell_type": "code",
      "source": [
        "print(\"Data Type of radius_mean Column:\", data['radius_mean'].dtype)"
      ],
      "metadata": {
        "id": "Vl6MJ-q5GnUe",
        "outputId": "8615f920-9692-41f4-e661-de708645f7f0",
        "colab": {
          "base_uri": "https://localhost:8080/"
        }
      },
      "execution_count": null,
      "outputs": [
        {
          "output_type": "stream",
          "name": "stdout",
          "text": [
            "Data Type of radius_mean Column: float64\n"
          ]
        }
      ]
    },
    {
      "cell_type": "code",
      "source": [
        "import pandas as pd\n",
        "data = pd.read_csv(file_path)\n",
        "mapping = {'M': 0, 'B': 1}\n",
        "data['diagnosis'] = data['diagnosis'].map(mapping)\n",
        "#data.drop(columns=['radius_mean'], inplace=True)\n",
        "data.drop(columns=data.columns[-1], inplace=True)"
      ],
      "metadata": {
        "id": "pmgseSrmC7QT"
      },
      "execution_count": null,
      "outputs": []
    },
    {
      "cell_type": "code",
      "source": [
        "# Save the DataFrame to a new CSV file\n",
        "data.to_csv('updated_data.csv', index=False)"
      ],
      "metadata": {
        "id": "4VThX3akDShF"
      },
      "execution_count": null,
      "outputs": []
    },
    {
      "cell_type": "code",
      "execution_count": null,
      "metadata": {
        "id": "XTorO4DO9qpi"
      },
      "outputs": [],
      "source": [
        "#loading dataset\n",
        "def load_dataset(fname):\n",
        "    data=read_csv(fname,header=None)\n",
        "    dataset=data.values\n",
        "    X=dataset[:,2:]\n",
        "    y=dataset[:,1]\n",
        "    return X,y"
      ]
    },
    {
      "cell_type": "code",
      "execution_count": null,
      "metadata": {
        "colab": {
          "base_uri": "https://localhost:8080/"
        },
        "id": "K01OMSFn9qpi",
        "outputId": "05af79cd-4031-43a5-a72e-e7a5643b6e37"
      },
      "outputs": [
        {
          "output_type": "stream",
          "name": "stdout",
          "text": [
            "Train (381, 30) (381,)\n",
            "Test (189, 30) (189,)\n"
          ]
        }
      ],
      "source": [
        "#Train Test split\n",
        "X,y=load_dataset(\"updated_data.csv\")\n",
        "X_train,X_test,y_train,y_test=train_test_split(X,y,test_size=0.33,random_state=1)\n",
        "print('Train',X_train.shape,y_train.shape)\n",
        "print('Test',X_test.shape,y_test.shape)"
      ]
    },
    {
      "cell_type": "code",
      "execution_count": null,
      "metadata": {
        "id": "-xCrL04L9qpl"
      },
      "outputs": [],
      "source": [
        "#ANOVA F_statistic score based feature selection\n",
        "def select_features(X_train,y_train,X_test):\n",
        "    fs=SelectKBest(score_func=f_classif,k=4)\n",
        "    fs.fit(X_train,y_train)\n",
        "    X_train_fs=fs.transform(X_train)\n",
        "    X_test_fs=fs.transform(X_test)\n",
        "    return X_train_fs,X_test_fs,fs"
      ]
    },
    {
      "cell_type": "code",
      "execution_count": null,
      "metadata": {
        "colab": {
          "base_uri": "https://localhost:8080/",
          "height": 430
        },
        "id": "aeC8WOhu9qpm",
        "outputId": "c37a0bc3-740a-4b9f-cea5-94c13d9b1266"
      },
      "outputs": [
        {
          "output_type": "display_data",
          "data": {
            "text/plain": [
              "<Figure size 640x480 with 1 Axes>"
            ],
            "image/png": "[encoded data removed]"
          },
          "metadata": {}
        }
      ],
      "source": [
        "#Selecting best features and plotting\n",
        "X_train_fs,X_test_fs,fs=select_features(X_train,y_train,X_test)\n",
        "pyplot.bar([i for i in range(len(fs.scores_))],fs.scores_)\n",
        "pyplot.show()"
      ]
    },
    {
      "cell_type": "code",
      "execution_count": null,
      "metadata": {
        "colab": {
          "base_uri": "https://localhost:8080/"
        },
        "id": "Y2b3VDb89qpn",
        "outputId": "304a77a2-b5d8-4204-e1f1-dbafa0b849b0"
      },
      "outputs": [
        {
          "output_type": "execute_result",
          "data": {
            "text/plain": [
              "array([4.47925901e+02, 8.89283166e+01, 4.75452576e+02, 3.82897338e+02,\n",
              "       6.08376062e+01, 1.97595772e+02, 3.15177525e+02, 5.12120150e+02,\n",
              "       5.03605155e+01, 3.68405973e-01, 1.80557332e+02, 1.29496566e+00,\n",
              "       1.73279908e+02, 1.54328338e+02, 1.36392511e+00, 3.54090648e+01,\n",
              "       2.73092727e+01, 7.34925788e+01, 1.21013989e-01, 1.09635954e+00,\n",
              "       5.85638292e+02, 1.16133522e+02, 6.05280046e+02, 4.34086109e+02,\n",
              "       9.02296798e+01, 1.85817089e+02, 2.76529363e+02, 6.24801808e+02,\n",
              "       8.33056151e+01, 3.66708153e+01])"
            ]
          },
          "metadata": {},
          "execution_count": 11
        }
      ],
      "source": [
        "#feature scores\n",
        "fs.scores_"
      ]
    },
    {
      "cell_type": "code",
      "execution_count": null,
      "metadata": {
        "id": "i7sdtXgD9qpo"
      },
      "outputs": [],
      "source": [
        "from sklearn.feature_selection import mutual_info_classif"
      ]
    },
    {
      "cell_type": "code",
      "execution_count": null,
      "metadata": {
        "id": "AkTWLMqo9qpp"
      },
      "outputs": [],
      "source": [
        "#Mutual information based feature selection\n",
        "def select_features_2(X_train,y_train,X_test):\n",
        "    fs=SelectKBest(score_func=mutual_info_classif,k=4)\n",
        "    fs.fit(X_train,y_train)\n",
        "    X_train_fs=fs.transform(X_train)\n",
        "    X_test_fs=fs.transform(X_test)\n",
        "    return X_train_fs,X_test_fs,fs"
      ]
    },
    {
      "cell_type": "code",
      "execution_count": null,
      "metadata": {
        "colab": {
          "base_uri": "https://localhost:8080/",
          "height": 430
        },
        "id": "8EMvuzca9qpq",
        "outputId": "3c1a3e5d-108f-4ce6-fcf4-41fe57bf6ac5"
      },
      "outputs": [
        {
          "output_type": "display_data",
          "data": {
            "text/plain": [
              "<Figure size 640x480 with 1 Axes>"
            ],
            "image/png": "[encoded data removed]"
          },
          "metadata": {}
        }
      ],
      "source": [
        "#Selecting best features using MI and plotting\n",
        "X_train_fs2,X_test_fs2,fs2=select_features_2(X_train,y_train,X_test)\n",
        "pyplot.bar([i for i in range(len(fs2.scores_))],fs2.scores_)\n",
        "pyplot.show()"
      ]
    },
    {
      "cell_type": "code",
      "execution_count": null,
      "metadata": {
        "colab": {
          "base_uri": "https://localhost:8080/"
        },
        "id": "o0HyQaVK9qps",
        "outputId": "53ef8964-9ea2-4ae9-a57c-62b5e37ecb19"
      },
      "outputs": [
        {
          "output_type": "execute_result",
          "data": {
            "text/plain": [
              "array([0.38333629, 0.11306886, 0.41671113, 0.41612434, 0.05222056,\n",
              "       0.21466185, 0.34242176, 0.42130265, 0.06881884, 0.0316409 ,\n",
              "       0.2672922 , 0.01427818, 0.25692638, 0.37383815, 0.01077372,\n",
              "       0.06938387, 0.12493933, 0.12264982, 0.        , 0.08236477,\n",
              "       0.48659653, 0.1167721 , 0.48564269, 0.48566612, 0.1031564 ,\n",
              "       0.21783204, 0.30017856, 0.43630855, 0.10697451, 0.05787873])"
            ]
          },
          "metadata": {},
          "execution_count": 15
        }
      ],
      "source": [
        "#feature scores\n",
        "fs2.scores_"
      ]
    },
    {
      "cell_type": "code",
      "execution_count": null,
      "metadata": {
        "id": "v5yROiv49qpt"
      },
      "outputs": [],
      "source": [
        "#Building model with all features\n",
        "from sklearn.linear_model import LogisticRegression\n",
        "from sklearn.metrics import accuracy_score"
      ]
    },
    {
      "cell_type": "code",
      "source": [
        "import numpy as np\n",
        "print(X_test.dtype)  # Make sure it's of data type float or int\n",
        "print(X_test.shape)\n",
        "X_test = np.array(data[1:], dtype=float)\n",
        "#X_test=X_test.astype(float)\n",
        "print(X_test.dtype)"
      ],
      "metadata": {
        "colab": {
          "base_uri": "https://localhost:8080/"
        },
        "id": "FDEGDUxwH4hE",
        "outputId": "f2e7ec26-ee95-4532-d843-281f499dcf45"
      },
      "execution_count": null,
      "outputs": [
        {
          "output_type": "stream",
          "name": "stdout",
          "text": [
            "float64\n",
            "(568, 32)\n",
            "float64\n"
          ]
        }
      ]
    },
    {
      "cell_type": "code",
      "source": [
        "import numpy as np\n",
        "from sklearn.linear_model import LogisticRegression\n",
        "from sklearn.metrics import accuracy_score\n",
        "\n",
        "print(\"Shapes before modification:\")\n",
        "print(X_train.shape)\n",
        "print(X_test.shape)\n",
        "\n",
        "\n",
        "X_test = X_test[:, :30]\n",
        "\n",
        "\n",
        "X_test = X_test[:y_test.shape[0]]\n",
        "\n",
        "print(\"Shapes of X_test and y_test:\")\n",
        "print(X_test.shape)\n",
        "print(y_test.shape)\n",
        "\n",
        "model1 = LogisticRegression(solver='liblinear')\n",
        "model1.fit(X_train, y_train)\n",
        "\n",
        "yhat = model1.predict(X_test)\n",
        "\n",
        "accuracy = accuracy_score(y_test, yhat)\n",
        "print(\"Accuracy: %.2f\" % (accuracy * 100))\n"
      ],
      "metadata": {
        "colab": {
          "base_uri": "https://localhost:8080/"
        },
        "id": "peoBTkCjXvU7",
        "outputId": "970a1f99-dd85-44b3-b0cc-6a7e8b26685c"
      },
      "execution_count": null,
      "outputs": [
        {
          "output_type": "stream",
          "name": "stdout",
          "text": [
            "Shapes before modification:\n",
            "(381, 30)\n",
            "(568, 30)\n",
            "Shapes of X_test and y_test:\n",
            "(189, 30)\n",
            "(189,)\n",
            "Accuracy: 64.02\n"
          ]
        }
      ]
    },
    {
      "cell_type": "code",
      "execution_count": null,
      "metadata": {
        "colab": {
          "base_uri": "https://localhost:8080/"
        },
        "id": "TkQkatJN9qpt",
        "outputId": "9ea3866c-80a4-4a2f-ca0b-7def4e6e4611"
      },
      "outputs": [
        {
          "output_type": "stream",
          "name": "stdout",
          "text": [
            "Accuracy: 64.02\n"
          ]
        }
      ],
      "source": [
        "model1=LogisticRegression(solver='liblinear')\n",
        "model1.fit(X_train,y_train)\n",
        "yhat=model1.predict(X_test)\n",
        "accuracy=accuracy_score(y_test,yhat)\n",
        "print(\"Accuracy: %.2f\" %(accuracy*100))"
      ]
    },
    {
      "cell_type": "code",
      "source": [
        "X_test_fs = np.array(data[1:], dtype=float)"
      ],
      "metadata": {
        "id": "Hol8PZITYzAI"
      },
      "execution_count": null,
      "outputs": []
    },
    {
      "cell_type": "code",
      "execution_count": null,
      "metadata": {
        "id": "NfWrxBLV9qpu",
        "outputId": "f509de71-136e-4823-aab1-ab36f1f9d956",
        "colab": {
          "base_uri": "https://localhost:8080/"
        }
      },
      "outputs": [
        {
          "output_type": "stream",
          "name": "stdout",
          "text": [
            "Shapes of X_test and y_test:\n",
            "(189, 4)\n",
            "(189,)\n",
            "Accuracy: 35.45\n"
          ]
        }
      ],
      "source": [
        "import numpy as np\n",
        "from sklearn.linear_model import LogisticRegression\n",
        "from sklearn.metrics import accuracy_score\n",
        "\n",
        "\n",
        "X_test_fs = X_test_fs[:, :4]\n",
        "\n",
        "\n",
        "X_test_fs = X_test_fs[:y_test.shape[0]]\n",
        "\n",
        "\n",
        "print(\"Shapes of X_test and y_test:\")\n",
        "print(X_test_fs.shape)\n",
        "print(y_test.shape)\n",
        "\n",
        "model1 = LogisticRegression(solver='liblinear')\n",
        "model1.fit(X_train_fs, y_train)\n",
        "\n",
        "\n",
        "yhat = model1.predict(X_test_fs)\n",
        "\n",
        "\n",
        "accuracy = accuracy_score(y_test, yhat)\n",
        "print(\"Accuracy: %.2f\" % (accuracy * 100))\n"
      ]
    },
    {
      "cell_type": "code",
      "source": [
        "X_test_fs2 = np.array(data[1:], dtype=float)"
      ],
      "metadata": {
        "id": "-XtiXCw5ZfEg"
      },
      "execution_count": null,
      "outputs": []
    },
    {
      "cell_type": "code",
      "source": [
        "import numpy as np\n",
        "from sklearn.linear_model import LogisticRegression\n",
        "from sklearn.metrics import accuracy_score\n",
        "\n",
        "\n",
        "X_test_fs2 = X_test_fs2[:, :4]\n",
        "\n",
        "X_test_fs2 = X_test_fs2[:y_test.shape[0]]\n",
        "\n",
        "\n",
        "print(\"Shapes of X_test and y_test:\")\n",
        "print(X_test_fs2.shape)\n",
        "print(y_test.shape)\n",
        "\n",
        "model1 = LogisticRegression(solver='liblinear')\n",
        "model1.fit(X_train_fs2, y_train)\n",
        "\n",
        "\n",
        "yhat = model1.predict(X_test_fs2)\n",
        "\n",
        "accuracy = accuracy_score(y_test, yhat)\n",
        "print(\"Accuracy: %.2f\" % (accuracy * 100))\n"
      ],
      "metadata": {
        "colab": {
          "base_uri": "https://localhost:8080/"
        },
        "id": "WWDd5LF-ZV-G",
        "outputId": "1a10a5af-816b-4109-eabd-4e57b8e74552"
      },
      "execution_count": null,
      "outputs": [
        {
          "output_type": "stream",
          "name": "stdout",
          "text": [
            "Shapes of X_test and y_test:\n",
            "(189, 4)\n",
            "(189,)\n",
            "Accuracy: 64.02\n"
          ]
        }
      ]
    },
    {
      "cell_type": "code",
      "execution_count": null,
      "metadata": {
        "id": "ZY1qyouS9qpv"
      },
      "outputs": [],
      "source": [
        "#Tune the number of selected features -grid search\n",
        "from sklearn.pipeline import Pipeline\n",
        "from sklearn.model_selection import RepeatedStratifiedKFold\n",
        "from sklearn.model_selection import GridSearchCV\n"
      ]
    },
    {
      "cell_type": "code",
      "execution_count": null,
      "metadata": {
        "id": "-0wxi96V9qpv"
      },
      "outputs": [],
      "source": [
        "#define the data set\n",
        "X,y=load_dataset('updated_data.csv')\n",
        "X = data.drop('diagnosis', axis=1)  # Assuming 'diagnosis' is the target column\n",
        "y = data['diagnosis']"
      ]
    },
    {
      "cell_type": "code",
      "execution_count": null,
      "metadata": {
        "id": "oENiTiay9qpw"
      },
      "outputs": [],
      "source": [
        "#define the evaluation method - k-fold cross validation & k=10\n",
        "cv=RepeatedStratifiedKFold(n_splits=10,n_repeats=3,random_state=1)\n"
      ]
    },
    {
      "cell_type": "code",
      "execution_count": null,
      "metadata": {
        "id": "gIDli_DY9qpw"
      },
      "outputs": [],
      "source": [
        "#define the pipeline to evaluate\n",
        "model=LogisticRegression(solver='liblinear')\n",
        "fs=SelectKBest(score_func=f_classif)\n",
        "pipeline=Pipeline(steps=[('anova',fs),('lr',model)])"
      ]
    },
    {
      "cell_type": "code",
      "execution_count": null,
      "metadata": {
        "id": "hQEwiAow9qpx"
      },
      "outputs": [],
      "source": [
        "#define the grid\n",
        "grid=dict()\n",
        "grid['anova__k']=[i+1 for i in range(X.shape[1])]"
      ]
    },
    {
      "cell_type": "code",
      "execution_count": null,
      "metadata": {
        "id": "kqTxpKoV9qpx"
      },
      "outputs": [],
      "source": [
        "#define the grid search\n",
        "search=GridSearchCV(pipeline, grid, scoring='accuracy',n_jobs=-1, cv=cv)\n",
        "results=search.fit(X,y)"
      ]
    },
    {
      "cell_type": "code",
      "execution_count": null,
      "metadata": {
        "id": "qQYhqchw9qpx",
        "outputId": "0a6d53b3-f146-482a-a21d-4f87bd150383",
        "colab": {
          "base_uri": "https://localhost:8080/"
        }
      },
      "outputs": [
        {
          "output_type": "stream",
          "name": "stdout",
          "text": [
            "Best Mean Accuracy: 0.950\n",
            "Best config {'anova__k': 16}\n"
          ]
        }
      ],
      "source": [
        "print('Best Mean Accuracy: %.3f' % results.best_score_)\n",
        "print('Best config %s' %results.best_params_)"
      ]
    },
    {
      "cell_type": "markdown",
      "metadata": {
        "id": "xkYKdprQ9qpy"
      },
      "source": [
        "The results shows that the no. of best features is 7 and the mean accuracy with 7 features is 0.77"
      ]
    },
    {
      "cell_type": "code",
      "execution_count": null,
      "metadata": {
        "id": "9xMpoi239qp0"
      },
      "outputs": [],
      "source": [
        "#comparing different no. of features selected using ANOVA f-test\n",
        "from numpy import mean\n",
        "from numpy import std\n",
        "from sklearn.model_selection import cross_val_score"
      ]
    },
    {
      "cell_type": "code",
      "execution_count": null,
      "metadata": {
        "id": "6_scV_iA9qp0"
      },
      "outputs": [],
      "source": [
        "def evaluate_model(pipeline):\n",
        "    cv=RepeatedStratifiedKFold(n_repeats=3,n_splits=10, random_state=1)\n",
        "    scores=cross_val_score(pipeline,X,y,scoring='accuracy',cv=cv,n_jobs=1)\n",
        "    return scores"
      ]
    },
    {
      "cell_type": "code",
      "execution_count": null,
      "metadata": {
        "id": "YivDPI7z9qp1",
        "outputId": "1f130aee-a553-4ee4-f94c-76b939ee1fa8",
        "colab": {
          "base_uri": "https://localhost:8080/",
          "height": 968
        }
      },
      "outputs": [
        {
          "output_type": "stream",
          "name": "stdout",
          "text": [
            "#1 0.827 (0.035)\n",
            "#2 0.913 (0.039)\n",
            "#3 0.916 (0.037)\n",
            "#4 0.912 (0.038)\n",
            "#5 0.936 (0.026)\n",
            "#6 0.935 (0.025)\n",
            "#7 0.940 (0.027)\n",
            "#8 0.944 (0.024)\n",
            "#9 0.944 (0.025)\n",
            "#10 0.948 (0.025)\n",
            "#11 0.947 (0.024)\n",
            "#12 0.944 (0.025)\n",
            "#13 0.945 (0.026)\n",
            "#14 0.949 (0.027)\n",
            "#15 0.948 (0.030)\n",
            "#16 0.950 (0.027)\n",
            "#17 0.949 (0.028)\n",
            "#18 0.949 (0.028)\n",
            "#19 0.949 (0.028)\n",
            "#20 0.949 (0.028)\n",
            "#21 0.949 (0.028)\n",
            "#22 0.949 (0.028)\n",
            "#23 0.949 (0.028)\n",
            "#24 0.949 (0.028)\n",
            "#25 0.949 (0.028)\n",
            "#26 0.949 (0.028)\n",
            "#27 0.912 (0.138)\n",
            "#28 0.586 (0.260)\n",
            "#29 0.509 (0.225)\n",
            "#30 0.509 (0.223)\n",
            "#31 0.492 (0.213)\n"
          ]
        },
        {
          "output_type": "display_data",
          "data": {
            "text/plain": [
              "<Figure size 640x480 with 1 Axes>"
            ],
            "image/png": "[encoded data removed]"
          },
          "metadata": {}
        }
      ],
      "source": [
        "#define the data set\n",
        "X,y=load_dataset('updated_data.csv')\n",
        "X = data.drop('diagnosis', axis=1)  # Assuming 'diagnosis' is the target column\n",
        "y = data['diagnosis']\n",
        "#define the no. of features\n",
        "num_features=[i+1 for i in range(X.shape[1])]\n",
        "\n",
        "#enumerate each no. of feature\n",
        "results=list()\n",
        "for k in num_features:\n",
        "    #create pipeline\n",
        "    model=LogisticRegression(solver='liblinear')\n",
        "    fs=SelectKBest(score_func=f_classif,k=k)\n",
        "    pipeline=Pipeline(steps=[('anova',fs),('lr',model)])\n",
        "\n",
        "    #evaluate the model\n",
        "    scores=evaluate_model(pipeline)\n",
        "    results.append(scores)\n",
        "\n",
        "    print('#%d %.3f (%.3f)' %(k,mean(scores),std(scores)))\n",
        "pyplot.boxplot(results, labels=num_features, showmeans=True)\n",
        "pyplot.show()"
      ]
    }
  ],
  "metadata": {
    "kernelspec": {
      "display_name": "Python 3",
      "language": "python",
      "name": "python3"
    },
    "language_info": {
      "codemirror_mode": {
        "name": "ipython",
        "version": 3
      },
      "file_extension": ".py",
      "mimetype": "text/x-python",
      "name": "python",
      "nbconvert_exporter": "python",
      "pygments_lexer": "ipython3",
      "version": "3.7.6"
    },
    "colab": {
      "provenance": []
    }
  },
  "nbformat": 4,
  "nbformat_minor": 0
}