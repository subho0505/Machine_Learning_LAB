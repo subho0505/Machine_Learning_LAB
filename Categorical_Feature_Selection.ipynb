{
  "cells": [
    {
      "cell_type": "markdown",
      "source": [
        "link to dataset: https://www.kaggle.com/datasets/qizarafzaal/adult-dataset"
      ],
      "metadata": {
        "id": "HTfC0n4bh4wD"
      }
    },
    {
      "cell_type": "code",
      "execution_count": null,
      "metadata": {
        "id": "xShN29RqbNdT"
      },
      "outputs": [],
      "source": [
        "import pandas as pd\n",
        "import numpy as np\n",
        "from google.colab import drive"
      ]
    },
    {
      "cell_type": "code",
      "source": [
        "drive.mount('/content/drive')\n",
        "file_path = '/content/drive/MyDrive/adult.csv'"
      ],
      "metadata": {
        "colab": {
          "base_uri": "https://localhost:8080/"
        },
        "id": "m78m1Xd5bOTg",
        "outputId": "ecdcf21f-222e-4eb9-8545-77264092632f"
      },
      "execution_count": null,
      "outputs": [
        {
          "output_type": "stream",
          "name": "stdout",
          "text": [
            "Mounted at /content/drive\n"
          ]
        }
      ]
    },
    {
      "cell_type": "code",
      "execution_count": null,
      "metadata": {
        "id": "8P24z6R6bNdU"
      },
      "outputs": [],
      "source": [
        "#load the data set\n",
        "data = pd.read_csv(file_path,header=None)"
      ]
    },
    {
      "cell_type": "code",
      "execution_count": null,
      "metadata": {
        "colab": {
          "base_uri": "https://localhost:8080/"
        },
        "id": "tMgGwLVjbNdU",
        "outputId": "600192f9-18d1-4b42-8aa6-f1a20aa73775"
      },
      "outputs": [
        {
          "output_type": "stream",
          "name": "stdout",
          "text": [
            "<class 'pandas.core.frame.DataFrame'>\n",
            "Int64Index: 32560 entries, 0 to 32560\n",
            "Data columns (total 8 columns):\n",
            " #   Column  Non-Null Count  Dtype \n",
            "---  ------  --------------  ----- \n",
            " 0   1       32560 non-null  object\n",
            " 1   3       32560 non-null  object\n",
            " 2   5       32560 non-null  object\n",
            " 3   6       32560 non-null  object\n",
            " 4   7       32560 non-null  object\n",
            " 5   8       32560 non-null  object\n",
            " 6   13      32560 non-null  object\n",
            " 7   14      32560 non-null  object\n",
            "dtypes: object(8)\n",
            "memory usage: 2.2+ MB\n"
          ]
        }
      ],
      "source": [
        "data = data.select_dtypes(exclude=['int', 'float'])  # Drops integer and float columns\n",
        "# Get the label of the 7th column\n",
        "column_label = data.columns[6] # Python uses 0-based indexing\n",
        "\n",
        "# Drop the 7th column\n",
        "data.drop(column_label, axis=1, inplace=True)\n",
        "\n",
        "data.info()\n"
      ]
    },
    {
      "cell_type": "code",
      "execution_count": null,
      "metadata": {
        "colab": {
          "base_uri": "https://localhost:8080/"
        },
        "id": "5DUJQ8esbNdV",
        "outputId": "ac3506f5-4d75-4344-abda-d54b375132f6"
      },
      "outputs": [
        {
          "output_type": "execute_result",
          "data": {
            "text/plain": [
              "array([[' State-gov', ' Bachelors', ' Never-married', ..., ' White',\n",
              "        ' United-States', ' <=50K'],\n",
              "       [' Self-emp-not-inc', ' Bachelors', ' Married-civ-spouse', ...,\n",
              "        ' White', ' United-States', ' <=50K'],\n",
              "       [' Private', ' HS-grad', ' Divorced', ..., ' White',\n",
              "        ' United-States', ' <=50K'],\n",
              "       ...,\n",
              "       [' Private', ' HS-grad', ' Widowed', ..., ' White',\n",
              "        ' United-States', ' <=50K'],\n",
              "       [' Private', ' HS-grad', ' Never-married', ..., ' White',\n",
              "        ' United-States', ' <=50K'],\n",
              "       [' Self-emp-inc', ' HS-grad', ' Married-civ-spouse', ...,\n",
              "        ' White', ' United-States', ' >50K']], dtype=object)"
            ]
          },
          "metadata": {},
          "execution_count": 46
        }
      ],
      "source": [
        "#retrieve array\n",
        "dataset=data.values\n",
        "dataset"
      ]
    },
    {
      "cell_type": "code",
      "execution_count": null,
      "metadata": {
        "id": "A5GoYBpybNdV"
      },
      "outputs": [],
      "source": [
        "#split into input and output variables\n",
        "X=dataset[:,:-1]\n",
        "Y=dataset[:,-1]"
      ]
    },
    {
      "cell_type": "code",
      "execution_count": null,
      "metadata": {
        "id": "Q6hJUk8GbNdV"
      },
      "outputs": [],
      "source": [
        "#format all fields as strings\n",
        "X=X.astype(str)"
      ]
    },
    {
      "cell_type": "code",
      "execution_count": null,
      "metadata": {
        "id": "NXXMk_YfbNdV"
      },
      "outputs": [],
      "source": [
        "from sklearn.model_selection import train_test_split"
      ]
    },
    {
      "cell_type": "code",
      "execution_count": null,
      "metadata": {
        "colab": {
          "base_uri": "https://localhost:8080/"
        },
        "id": "Ik9jJD4ibNdV",
        "outputId": "5be839aa-1f5c-4207-833d-b8267e101b9f"
      },
      "outputs": [
        {
          "output_type": "stream",
          "name": "stdout",
          "text": [
            "Train (21815, 7) (21815,)\n",
            "Test (10745, 7) (10745,)\n"
          ]
        }
      ],
      "source": [
        "#split the data set into train and test set\n",
        "X_train, X_test, Y_train, Y_test=train_test_split(X, Y, test_size=0.33, random_state=1)\n",
        "#print the shape\n",
        "print(\"Train\", X_train.shape,Y_train.shape)\n",
        "print(\"Test\",X_test.shape, Y_test.shape)"
      ]
    },
    {
      "cell_type": "code",
      "execution_count": null,
      "metadata": {
        "id": "Klv94BSxbNdV"
      },
      "outputs": [],
      "source": [
        "from sklearn.preprocessing import OrdinalEncoder\n",
        "from sklearn.preprocessing import LabelEncoder"
      ]
    },
    {
      "cell_type": "code",
      "execution_count": null,
      "metadata": {
        "id": "PsAdpkLKbNdV"
      },
      "outputs": [],
      "source": [
        "#prepare the input variables\n",
        "def prepare_inputs(X_train, X_test):\n",
        "    oe=OrdinalEncoder()\n",
        "    oe.fit(X_train)  #first fit the encoding on the training data set\n",
        "    X_train_enc=oe.transform(X_train)  #then apply it to the train set\n",
        "    X_test_enc=oe.transform(X_test)   #apply it to the test set\n",
        "    return X_train_enc, X_test_enc"
      ]
    },
    {
      "cell_type": "code",
      "execution_count": null,
      "metadata": {
        "id": "rn2rh_s6bNdW"
      },
      "outputs": [],
      "source": [
        "#prepare target variable\n",
        "def prepare_target(Y_train, Y_test):\n",
        "    le=LabelEncoder()\n",
        "    le.fit(Y_train)\n",
        "    Y_train_enc=le.transform(Y_train)\n",
        "    Y_test_enc=le.transform(Y_test)\n",
        "    return Y_train_enc, Y_test_enc"
      ]
    },
    {
      "cell_type": "code",
      "source": [
        "from sklearn.preprocessing import OneHotEncoder\n",
        "\n",
        "# Assuming you have X_train and X_test\n",
        "encoder = OneHotEncoder(handle_unknown='ignore')\n",
        "\n",
        "X_train_enc = encoder.fit_transform(X_train)\n",
        "X_test_enc = encoder.transform(X_test)\n"
      ],
      "metadata": {
        "id": "Ub5uhwRWbo-K"
      },
      "execution_count": null,
      "outputs": []
    },
    {
      "cell_type": "code",
      "execution_count": null,
      "metadata": {
        "id": "rPaFdHkUbNdW"
      },
      "outputs": [],
      "source": [
        "#calling the functions\n",
        "X_train_enc,X_test_enc=prepare_inputs(X_train,X_test)\n",
        "Y_train_enc,Y_test_enc=prepare_target(Y_train,Y_test)"
      ]
    },
    {
      "cell_type": "code",
      "execution_count": null,
      "metadata": {
        "colab": {
          "base_uri": "https://localhost:8080/"
        },
        "id": "yaSEbU-GbNdW",
        "outputId": "61e1fa88-ab6c-40ad-d8cb-64196c65fadf"
      },
      "outputs": [
        {
          "output_type": "stream",
          "name": "stdout",
          "text": [
            "Train (21815, 7) (21815,)\n",
            "Test (10745, 7) (10745,)\n"
          ]
        }
      ],
      "source": [
        "#shape after encoding\n",
        "print('Train',X_train_enc.shape, Y_train_enc.shape)\n",
        "print('Test',X_test_enc.shape, Y_test_enc.shape)"
      ]
    },
    {
      "cell_type": "markdown",
      "metadata": {
        "id": "H668NSh3bNdW"
      },
      "source": [
        "## Chi-squared Feature Selection"
      ]
    },
    {
      "cell_type": "code",
      "execution_count": null,
      "metadata": {
        "id": "jkD8RJ1IbNdX"
      },
      "outputs": [],
      "source": [
        "from sklearn.feature_selection import SelectKBest\n",
        "from sklearn.feature_selection import chi2"
      ]
    },
    {
      "cell_type": "code",
      "execution_count": null,
      "metadata": {
        "id": "T1VD2y_kbNdX"
      },
      "outputs": [],
      "source": [
        "def select_features(X_train, Y_train, X_test):\n",
        "    fs=SelectKBest(score_func=chi2, k='all')\n",
        "    fs.fit(X_train, Y_train)\n",
        "    X_train_fs=fs.transform(X_train)\n",
        "    X_test_fs=fs.transform(X_test)\n",
        "    return X_train_fs, X_test_fs, fs\n"
      ]
    },
    {
      "cell_type": "code",
      "execution_count": null,
      "metadata": {
        "id": "Ww7_lY9UbNdX"
      },
      "outputs": [],
      "source": [
        "#calling feature selection function\n",
        "X_train_fs, X_test_fs, fs=select_features(X_train_enc, Y_train_enc, X_test_enc)"
      ]
    },
    {
      "cell_type": "code",
      "execution_count": null,
      "metadata": {
        "colab": {
          "base_uri": "https://localhost:8080/"
        },
        "id": "_kpt47fbbNdX",
        "outputId": "e55d1f35-fd8f-4a08-bfba-69c0bc5fa3cf"
      },
      "outputs": [
        {
          "output_type": "execute_result",
          "data": {
            "text/plain": [
              "array([  38.95422874,  197.23839592,  777.30188448,  321.08826425,\n",
              "       2464.78068367,   21.28857713,    8.24319861])"
            ]
          },
          "metadata": {},
          "execution_count": 66
        }
      ],
      "source": [
        "#print the scores\n",
        "fs.scores_"
      ]
    },
    {
      "cell_type": "code",
      "execution_count": null,
      "metadata": {
        "id": "2JP4RaxsbNdX"
      },
      "outputs": [],
      "source": [
        "import matplotlib.pyplot as plt"
      ]
    },
    {
      "cell_type": "code",
      "execution_count": null,
      "metadata": {
        "colab": {
          "base_uri": "https://localhost:8080/",
          "height": 430
        },
        "id": "aE8rce0JbNdX",
        "outputId": "aa9333ca-7daf-4210-9aca-543482e5631a"
      },
      "outputs": [
        {
          "output_type": "display_data",
          "data": {
            "text/plain": [
              "<Figure size 640x480 with 1 Axes>"
            ],
            "image/png": "[encoded data removed]"
          },
          "metadata": {}
        }
      ],
      "source": [
        "#plot the scores\n",
        "plt.bar([i for i in range (len(fs.scores_))],fs.scores_)\n",
        "plt.show()"
      ]
    },
    {
      "cell_type": "markdown",
      "metadata": {
        "id": "eCnVgsuBbNdX"
      },
      "source": [
        "From the bar chart, it is inferred that the features 3, 4, 5 and 8 are the most relevant features"
      ]
    },
    {
      "cell_type": "markdown",
      "metadata": {
        "id": "Kt6o8zjrbNdX"
      },
      "source": [
        "## Mutual Information feature selection"
      ]
    },
    {
      "cell_type": "code",
      "execution_count": null,
      "metadata": {
        "id": "ccgH4571bNdX"
      },
      "outputs": [],
      "source": [
        "from sklearn.feature_selection import mutual_info_classif"
      ]
    },
    {
      "cell_type": "code",
      "execution_count": null,
      "metadata": {
        "id": "rZi-jSDYbNdX"
      },
      "outputs": [],
      "source": [
        "def select_features_2(X_train, Y_train, X_test):\n",
        "    fs=SelectKBest(score_func=mutual_info_classif, k='all')\n",
        "    fs.fit(X_train, Y_train)\n",
        "    X_train_fs_2=fs.transform(X_train)\n",
        "    X_test_fs_2=fs.transform(X_test)\n",
        "    return X_train_fs_2, X_test_fs_2, fs\n"
      ]
    },
    {
      "cell_type": "code",
      "execution_count": null,
      "metadata": {
        "id": "xVj4hmzzbNdX"
      },
      "outputs": [],
      "source": [
        "#calling feature selection function\n",
        "X_train_fs_2, X_test_fs_2, fs=select_features_2(X_train_enc, Y_train_enc, X_test_enc)"
      ]
    },
    {
      "cell_type": "code",
      "execution_count": null,
      "metadata": {
        "colab": {
          "base_uri": "https://localhost:8080/"
        },
        "id": "XXUg8xSMbNdX",
        "outputId": "368d94f1-87b9-48cc-dc84-75238adaa350"
      },
      "outputs": [
        {
          "output_type": "execute_result",
          "data": {
            "text/plain": [
              "array([0.01767937, 0.06832453, 0.11327649, 0.06363992, 0.11589389,\n",
              "       0.00696779, 0.0116338 ])"
            ]
          },
          "metadata": {},
          "execution_count": 72
        }
      ],
      "source": [
        "#print the scores\n",
        "fs.scores_"
      ]
    },
    {
      "cell_type": "code",
      "execution_count": null,
      "metadata": {
        "colab": {
          "base_uri": "https://localhost:8080/",
          "height": 430
        },
        "id": "Il4DXwcbbNdX",
        "outputId": "7bec7ae3-db52-4001-e426-0b1aaafe6ee5"
      },
      "outputs": [
        {
          "output_type": "display_data",
          "data": {
            "text/plain": [
              "<Figure size 640x480 with 1 Axes>"
            ],
            "image/png": "[encoded data removed]"
          },
          "metadata": {}
        }
      ],
      "source": [
        "#plot the scores\n",
        "plt.bar([i for i in range (len(fs.scores_))],fs.scores_)\n",
        "plt.show()"
      ]
    },
    {
      "cell_type": "markdown",
      "metadata": {
        "id": "4pbcBWb7bNdY"
      },
      "source": [
        "It is inferred from the bar chart that the features 0, 2,5 and 8 are relevant features"
      ]
    },
    {
      "cell_type": "code",
      "execution_count": null,
      "metadata": {
        "id": "a5WgyFoybNdY"
      },
      "outputs": [],
      "source": [
        "from sklearn.linear_model import LogisticRegression\n",
        "from sklearn.metrics import accuracy_score"
      ]
    },
    {
      "cell_type": "markdown",
      "metadata": {
        "id": "KFpckzUcbNdY"
      },
      "source": [
        "## Model built using ALL features"
      ]
    },
    {
      "cell_type": "code",
      "execution_count": null,
      "metadata": {
        "colab": {
          "base_uri": "https://localhost:8080/",
          "height": 74
        },
        "id": "izpAVfbabNdY",
        "outputId": "119afff3-1bd4-4809-b1a0-ebe37774d130"
      },
      "outputs": [
        {
          "output_type": "execute_result",
          "data": {
            "text/plain": [
              "LogisticRegression()"
            ],
            "text/html": [
              "<style>#sk-container-id-1 {color: black;background-color: white;}#sk-container-id-1 pre{padding: 0;}#sk-container-id-1 div.sk-toggleable {background-color: white;}#sk-container-id-1 label.sk-toggleable__label {cursor: pointer;display: block;width: 100%;margin-bottom: 0;padding: 0.3em;box-sizing: border-box;text-align: center;}#sk-container-id-1 label.sk-toggleable__label-arrow:before {content: \"▸\";float: left;margin-right: 0.25em;color: #696969;}#sk-container-id-1 label.sk-toggleable__label-arrow:hover:before {color: black;}#sk-container-id-1 div.sk-estimator:hover label.sk-toggleable__label-arrow:before {color: black;}#sk-container-id-1 div.sk-toggleable__content {max-height: 0;max-width: 0;overflow: hidden;text-align: left;background-color: #f0f8ff;}#sk-container-id-1 div.sk-toggleable__content pre {margin: 0.2em;color: black;border-radius: 0.25em;background-color: #f0f8ff;}#sk-container-id-1 input.sk-toggleable__control:checked~div.sk-toggleable__content {max-height: 200px;max-width: 100%;overflow: auto;}#sk-container-id-1 input.sk-toggleable__control:checked~label.sk-toggleable__label-arrow:before {content: \"▾\";}#sk-container-id-1 div.sk-estimator input.sk-toggleable__control:checked~label.sk-toggleable__label {background-color: #d4ebff;}#sk-container-id-1 div.sk-label input.sk-toggleable__control:checked~label.sk-toggleable__label {background-color: #d4ebff;}#sk-container-id-1 input.sk-hidden--visually {border: 0;clip: rect(1px 1px 1px 1px);clip: rect(1px, 1px, 1px, 1px);height: 1px;margin: -1px;overflow: hidden;padding: 0;position: absolute;width: 1px;}#sk-container-id-1 div.sk-estimator {font-family: monospace;background-color: #f0f8ff;border: 1px dotted black;border-radius: 0.25em;box-sizing: border-box;margin-bottom: 0.5em;}#sk-container-id-1 div.sk-estimator:hover {background-color: #d4ebff;}#sk-container-id-1 div.sk-parallel-item::after {content: \"\";width: 100%;border-bottom: 1px solid gray;flex-grow: 1;}#sk-container-id-1 div.sk-label:hover label.sk-toggleable__label {background-color: #d4ebff;}#sk-container-id-1 div.sk-serial::before {content: \"\";position: absolute;border-left: 1px solid gray;box-sizing: border-box;top: 0;bottom: 0;left: 50%;z-index: 0;}#sk-container-id-1 div.sk-serial {display: flex;flex-direction: column;align-items: center;background-color: white;padding-right: 0.2em;padding-left: 0.2em;position: relative;}#sk-container-id-1 div.sk-item {position: relative;z-index: 1;}#sk-container-id-1 div.sk-parallel {display: flex;align-items: stretch;justify-content: center;background-color: white;position: relative;}#sk-container-id-1 div.sk-item::before, #sk-container-id-1 div.sk-parallel-item::before {content: \"\";position: absolute;border-left: 1px solid gray;box-sizing: border-box;top: 0;bottom: 0;left: 50%;z-index: -1;}#sk-container-id-1 div.sk-parallel-item {display: flex;flex-direction: column;z-index: 1;position: relative;background-color: white;}#sk-container-id-1 div.sk-parallel-item:first-child::after {align-self: flex-end;width: 50%;}#sk-container-id-1 div.sk-parallel-item:last-child::after {align-self: flex-start;width: 50%;}#sk-container-id-1 div.sk-parallel-item:only-child::after {width: 0;}#sk-container-id-1 div.sk-dashed-wrapped {border: 1px dashed gray;margin: 0 0.4em 0.5em 0.4em;box-sizing: border-box;padding-bottom: 0.4em;background-color: white;}#sk-container-id-1 div.sk-label label {font-family: monospace;font-weight: bold;display: inline-block;line-height: 1.2em;}#sk-container-id-1 div.sk-label-container {text-align: center;}#sk-container-id-1 div.sk-container {/* jupyter's `normalize.less` sets `[hidden] { display: none; }` but bootstrap.min.css set `[hidden] { display: none !important; }` so we also need the `!important` here to be able to override the default hidden behavior on the sphinx rendered scikit-learn.org. See: https://github.com/scikit-learn/scikit-learn/issues/21755 */display: inline-block !important;position: relative;}#sk-container-id-1 div.sk-text-repr-fallback {display: none;}</style><div id=\"sk-container-id-1\" class=\"sk-top-container\"><div class=\"sk-text-repr-fallback\"><pre>LogisticRegression()</pre><b>In a Jupyter environment, please rerun this cell to show the HTML representation or trust the notebook. <br />On GitHub, the HTML representation is unable to render, please try loading this page with nbviewer.org.</b></div><div class=\"sk-container\" hidden><div class=\"sk-item\"><div class=\"sk-estimator sk-toggleable\"><input class=\"sk-toggleable__control sk-hidden--visually\" id=\"sk-estimator-id-1\" type=\"checkbox\" checked><label for=\"sk-estimator-id-1\" class=\"sk-toggleable__label sk-toggleable__label-arrow\">LogisticRegression</label><div class=\"sk-toggleable__content\"><pre>LogisticRegression()</pre></div></div></div></div></div>"
            ]
          },
          "metadata": {},
          "execution_count": 75
        }
      ],
      "source": [
        "#fit the model\n",
        "model=LogisticRegression(solver='lbfgs')\n",
        "model.fit(X_train_enc, Y_train_enc)\n"
      ]
    },
    {
      "cell_type": "code",
      "execution_count": null,
      "metadata": {
        "id": "X-4l7vebbNdY"
      },
      "outputs": [],
      "source": [
        "#predict the model\n",
        "yhat=model.predict(X_test_enc)"
      ]
    },
    {
      "cell_type": "code",
      "execution_count": null,
      "metadata": {
        "colab": {
          "base_uri": "https://localhost:8080/"
        },
        "id": "MvSNgcoHbNdY",
        "outputId": "5a88de88-e5fd-4a72-fff8-a55a5d95e232"
      },
      "outputs": [
        {
          "output_type": "stream",
          "name": "stdout",
          "text": [
            "Accuracy: 76.36\n"
          ]
        }
      ],
      "source": [
        "#Evaluate the prediction\n",
        "accuracy=accuracy_score(Y_test_enc, yhat)\n",
        "print(\"Accuracy: %.2f\" %(accuracy*100))"
      ]
    },
    {
      "cell_type": "markdown",
      "metadata": {
        "id": "Nhpdp---bNdY"
      },
      "source": [
        "## Model built using Chi-squared features"
      ]
    },
    {
      "cell_type": "code",
      "execution_count": null,
      "metadata": {
        "colab": {
          "base_uri": "https://localhost:8080/"
        },
        "id": "ilKa15lnbNdY",
        "outputId": "576c001e-eced-4a6c-dc88-5c091bfd77b8"
      },
      "outputs": [
        {
          "output_type": "stream",
          "name": "stdout",
          "text": [
            "Accuracy: 76.36\n"
          ]
        }
      ],
      "source": [
        "model1=LogisticRegression(solver='lbfgs')\n",
        "#fit the model\n",
        "model1.fit(X_train_fs, Y_train_enc)\n",
        "#evaluate the model\n",
        "yhat=model1.predict(X_test_fs)\n",
        "#evaluate the performance\n",
        "accuracy=accuracy_score(Y_test_enc,yhat)\n",
        "print(\"Accuracy: %.2f\" %(accuracy*100))"
      ]
    },
    {
      "cell_type": "markdown",
      "metadata": {
        "id": "Zop2lLAobNdY"
      },
      "source": [
        "## Model built using Mutual Information\n"
      ]
    },
    {
      "cell_type": "code",
      "execution_count": null,
      "metadata": {
        "colab": {
          "base_uri": "https://localhost:8080/"
        },
        "id": "IvaGknBXbNdY",
        "outputId": "9caed78d-2333-4833-b525-79da3b0e2437"
      },
      "outputs": [
        {
          "output_type": "stream",
          "name": "stdout",
          "text": [
            "Accuracy: 76.36\n"
          ]
        }
      ],
      "source": [
        "model2=LogisticRegression(solver='lbfgs')\n",
        "#fit the model\n",
        "model2.fit(X_train_fs_2, Y_train_enc)\n",
        "#evaluate the model\n",
        "yhat=model2.predict(X_test_fs_2)\n",
        "#evaluate the performance\n",
        "accuracy=accuracy_score(Y_test_enc,yhat)\n",
        "print(\"Accuracy: %.2f\" %(accuracy*100))"
      ]
    },
    {
      "cell_type": "markdown",
      "metadata": {
        "id": "IEnNRvQgbNdY"
      },
      "source": [
        "## Conclusion\n",
        "Models built with all features, chi-square based feature selection or with mutual information based feature selection have the same accuracy percentage."
      ]
    }
  ],
  "metadata": {
    "kernelspec": {
      "display_name": "Python 3",
      "language": "python",
      "name": "python3"
    },
    "language_info": {
      "codemirror_mode": {
        "name": "ipython",
        "version": 3
      },
      "file_extension": ".py",
      "mimetype": "text/x-python",
      "name": "python",
      "nbconvert_exporter": "python",
      "pygments_lexer": "ipython3",
      "version": "3.7.6"
    },
    "colab": {
      "provenance": []
    }
  },
  "nbformat": 4,
  "nbformat_minor": 0
}